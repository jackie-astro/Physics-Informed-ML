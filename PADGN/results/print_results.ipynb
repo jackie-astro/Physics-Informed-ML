{
 "cells": [
  {
   "cell_type": "code",
   "execution_count": null,
   "metadata": {},
   "outputs": [],
   "source": [
    "import os\n",
    "import sys\n",
    "\n",
    "from results_utils import get_stats\n",
    "\n",
    "%matplotlib inline"
   ]
  },
  {
   "cell_type": "markdown",
   "metadata": {},
   "source": [
    "# Synthetic Experiments of Graph Signal Prediction (Section 3.2)"
   ]
  },
  {
   "cell_type": "code",
   "execution_count": null,
   "metadata": {},
   "outputs": [],
   "source": [
    "pdx_all, pdx = get_stats('../artifacts/iclrexps/irregular_varicoef_diff_conv_eqn_4nn_42_250sample/', skip_first_frames_num=5, stepnums=(15,))\n",
    "pdx"
   ]
  },
  {
   "cell_type": "markdown",
   "metadata": {},
   "source": [
    "# Prediction: Graph Signals on Land-based Weather Sensors (Sectoin 4.2)"
   ]
  },
  {
   "cell_type": "code",
   "execution_count": null,
   "metadata": {},
   "outputs": [],
   "source": [
    "pdx_all, pdx = get_stats('../artifacts/iclrexps/noaa_pt_states_withloc/', skip_first_frames_num=12, stepnums=(1, 6, 12))\n",
    "pdx"
   ]
  },
  {
   "cell_type": "code",
   "execution_count": null,
   "metadata": {},
   "outputs": [],
   "source": [
    "pdx_all, pdx = get_stats('../artifacts/iclrexps/noaa_ec_states_test_2_withloc/', skip_first_frames_num=12, stepnums=(1, 6, 12))\n",
    "pdx"
   ]
  },
  {
   "cell_type": "markdown",
   "metadata": {},
   "source": [
    "# Sea Surface Temperature Prediction"
   ]
  },
  {
   "cell_type": "code",
   "execution_count": null,
   "metadata": {},
   "outputs": [],
   "source": [
    "pdx_all, pdx = get_stats('../artifacts/iclrexps/sst-daily_4nn_42_250sample/', skip_first_frames_num=5, stepnums=(15, 25))\n",
    "pdx"
   ]
  }
 ],
 "metadata": {
  "kernelspec": {
   "display_name": "Python 3",
   "language": "python",
   "name": "python3"
  },
  "language_info": {
   "codemirror_mode": {
    "name": "ipython",
    "version": 3
   },
   "file_extension": ".py",
   "mimetype": "text/x-python",
   "name": "python",
   "nbconvert_exporter": "python",
   "pygments_lexer": "ipython3",
   "version": "3.6.8"
  }
 },
 "nbformat": 4,
 "nbformat_minor": 2
}
